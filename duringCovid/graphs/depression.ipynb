{
 "cells": [
  {
   "cell_type": "code",
   "execution_count": 1,
   "metadata": {},
   "outputs": [
    {
     "data": {
      "image/png": "[encoded data removed]",
      "text/plain": [
       "<Figure size 1000x500 with 1 Axes>"
      ]
     },
     "metadata": {},
     "output_type": "display_data"
    }
   ],
   "source": [
    "import pandas as pd\n",
    "import matplotlib.pyplot as plt\n",
    "# importing the csv into pandas dataframe\n",
    "\n",
    "df = pd.read_csv('/home/amisharma/webminning/Scrapper/depressionreddit_data.csv')\n",
    "# using matplotlib to create a graph with the number of posts per month\n",
    "df['date'] = pd.to_datetime(df['date'])\n",
    "df['month'] = df['date'].dt.month\n",
    "ax = df.groupby('month').count()['date'].plot(kind='bar', figsize=(10, 5), title=\"Number of posts per month\")\n",
    "\n",
    "plt.show()\n"
   ]
  },
  {
   "cell_type": "code",
   "execution_count": 2,
   "metadata": {},
   "outputs": [
    {
     "data": {
      "text/plain": [
       "9     34\n",
       "11    34\n",
       "4     27\n",
       "5     26\n",
       "7     26\n",
       "12    25\n",
       "8     24\n",
       "6     23\n",
       "2     22\n",
       "10    20\n",
       "3     20\n",
       "1     13\n",
       "Name: date, dtype: int64"
      ]
     },
     "execution_count": 2,
     "metadata": {},
     "output_type": "execute_result"
    }
   ],
   "source": [
    "df['date'].dt.month.value_counts()"
   ]
  },
  {
   "cell_type": "code",
   "execution_count": 3,
   "metadata": {},
   "outputs": [
    {
     "data": {
      "text/plain": [
       "September    34\n",
       "November     34\n",
       "April        27\n",
       "May          26\n",
       "July         26\n",
       "December     25\n",
       "August       24\n",
       "June         23\n",
       "February     22\n",
       "October      20\n",
       "March        20\n",
       "January      13\n",
       "Name: date, dtype: int64"
      ]
     },
     "execution_count": 3,
     "metadata": {},
     "output_type": "execute_result"
    }
   ],
   "source": [
    "df['date'].dt.month_name().value_counts()"
   ]
  },
  {
   "cell_type": "code",
   "execution_count": 4,
   "metadata": {},
   "outputs": [
    {
     "data": {
      "text/html": [
       "<div>\n",
       "<style scoped>\n",
       "    .dataframe tbody tr th:only-of-type {\n",
       "        vertical-align: middle;\n",
       "    }\n",
       "\n",
       "    .dataframe tbody tr th {\n",
       "        vertical-align: top;\n",
       "    }\n",
       "\n",
       "    .dataframe thead th {\n",
       "        text-align: right;\n",
       "    }\n",
       "</style>\n",
       "<table border=\"1\" class=\"dataframe\">\n",
       "  <thead>\n",
       "    <tr style=\"text-align: right;\">\n",
       "      <th></th>\n",
       "      <th>subReddit</th>\n",
       "      <th>Title</th>\n",
       "      <th>Content</th>\n",
       "      <th>Top Comment</th>\n",
       "      <th>upvotes</th>\n",
       "      <th>Number of comments</th>\n",
       "      <th>date</th>\n",
       "      <th>uniquePostID</th>\n",
       "      <th>month</th>\n",
       "    </tr>\n",
       "  </thead>\n",
       "  <tbody>\n",
       "    <tr>\n",
       "      <th>0</th>\n",
       "      <td>depression</td>\n",
       "      <td>I hate that people don’t understand that i don...</td>\n",
       "      <td>NaN</td>\n",
       "      <td>Yeah. It would be nice to just disappear for a...</td>\n",
       "      <td>4725</td>\n",
       "      <td>133</td>\n",
       "      <td>2020-08-04 01:57:38</td>\n",
       "      <td>i3ajk8</td>\n",
       "      <td>8</td>\n",
       "    </tr>\n",
       "    <tr>\n",
       "      <th>1</th>\n",
       "      <td>depression</td>\n",
       "      <td>It’s like I died at 15, but my body just kept ...</td>\n",
       "      <td>I’m trapped inside. Does anyone else get that ...</td>\n",
       "      <td>I stopped living at 17. I know how you feel. T...</td>\n",
       "      <td>4183</td>\n",
       "      <td>203</td>\n",
       "      <td>2020-04-28 13:40:28</td>\n",
       "      <td>g9ndgw</td>\n",
       "      <td>4</td>\n",
       "    </tr>\n",
       "    <tr>\n",
       "      <th>2</th>\n",
       "      <td>depression</td>\n",
       "      <td>When you become closed off due to depression a...</td>\n",
       "      <td>Fuck 😃</td>\n",
       "      <td>[deleted]</td>\n",
       "      <td>3786</td>\n",
       "      <td>95</td>\n",
       "      <td>2020-09-26 14:58:05</td>\n",
       "      <td>j07hbh</td>\n",
       "      <td>9</td>\n",
       "    </tr>\n",
       "    <tr>\n",
       "      <th>3</th>\n",
       "      <td>depression</td>\n",
       "      <td>The scary part about having depression is when...</td>\n",
       "      <td>Basically what the title says and my current s...</td>\n",
       "      <td>Everytime things gets better i feel that every...</td>\n",
       "      <td>3765</td>\n",
       "      <td>75</td>\n",
       "      <td>2020-02-21 10:06:06</td>\n",
       "      <td>f791jw</td>\n",
       "      <td>2</td>\n",
       "    </tr>\n",
       "    <tr>\n",
       "      <th>4</th>\n",
       "      <td>depression</td>\n",
       "      <td>People that aren't depressed exist and it's fu...</td>\n",
       "      <td>Like ???\\n\\n\\nI posted on AskReddit asking non...</td>\n",
       "      <td>can you imagine waking up happy and being exci...</td>\n",
       "      <td>3601</td>\n",
       "      <td>128</td>\n",
       "      <td>2020-05-11 00:51:44</td>\n",
       "      <td>ghdi7l</td>\n",
       "      <td>5</td>\n",
       "    </tr>\n",
       "  </tbody>\n",
       "</table>\n",
       "</div>"
      ],
      "text/plain": [
       "    subReddit                                              Title  \\\n",
       "0  depression  I hate that people don’t understand that i don...   \n",
       "1  depression  It’s like I died at 15, but my body just kept ...   \n",
       "2  depression  When you become closed off due to depression a...   \n",
       "3  depression  The scary part about having depression is when...   \n",
       "4  depression  People that aren't depressed exist and it's fu...   \n",
       "\n",
       "                                             Content  \\\n",
       "0                                                NaN   \n",
       "1  I’m trapped inside. Does anyone else get that ...   \n",
       "2                                             Fuck 😃   \n",
       "3  Basically what the title says and my current s...   \n",
       "4  Like ???\\n\\n\\nI posted on AskReddit asking non...   \n",
       "\n",
       "                                         Top Comment  upvotes  \\\n",
       "0  Yeah. It would be nice to just disappear for a...     4725   \n",
       "1  I stopped living at 17. I know how you feel. T...     4183   \n",
       "2                                          [deleted]     3786   \n",
       "3  Everytime things gets better i feel that every...     3765   \n",
       "4  can you imagine waking up happy and being exci...     3601   \n",
       "\n",
       "   Number of comments                date uniquePostID  month  \n",
       "0                 133 2020-08-04 01:57:38       i3ajk8      8  \n",
       "1                 203 2020-04-28 13:40:28       g9ndgw      4  \n",
       "2                  95 2020-09-26 14:58:05       j07hbh      9  \n",
       "3                  75 2020-02-21 10:06:06       f791jw      2  \n",
       "4                 128 2020-05-11 00:51:44       ghdi7l      5  "
      ]
     },
     "execution_count": 4,
     "metadata": {},
     "output_type": "execute_result"
    }
   ],
   "source": [
    "df.head()"
   ]
  },
  {
   "cell_type": "code",
   "execution_count": 5,
   "metadata": {},
   "outputs": [
    {
     "name": "stderr",
     "output_type": "stream",
     "text": [
      "/tmp/ipykernel_62200/1789999931.py:2: FutureWarning: The default value of numeric_only in DataFrameGroupBy.sum is deprecated. In a future version, numeric_only will default to False. Either specify numeric_only or select only columns which should be valid for the function.\n",
      "  ax = df.groupby('month').sum()['Number of comments'].plot(kind='bar', figsize=(10, 5), title=\"Number of comments per month\")\n"
     ]
    },
    {
     "data": {
      "image/png": "[encoded data removed]",
      "text/plain": [
       "<Figure size 1000x500 with 1 Axes>"
      ]
     },
     "metadata": {},
     "output_type": "display_data"
    }
   ],
   "source": [
    "# Number of comments per month\n",
    "ax = df.groupby('month').sum()['Number of comments'].plot(kind='bar', figsize=(10, 5), title=\"Number of comments per month\")\n",
    "plt.show()"
   ]
  },
  {
   "cell_type": "code",
   "execution_count": null,
   "metadata": {},
   "outputs": [],
   "source": []
  },
  {
   "cell_type": "code",
   "execution_count": null,
   "metadata": {},
   "outputs": [],
   "source": []
  }
 ],
 "metadata": {
  "kernelspec": {
   "display_name": "Python 3",
   "language": "python",
   "name": "python3"
  },
  "language_info": {
   "codemirror_mode": {
    "name": "ipython",
    "version": 3
   },
   "file_extension": ".py",
   "mimetype": "text/x-python",
   "name": "python",
   "nbconvert_exporter": "python",
   "pygments_lexer": "ipython3",
   "version": "3.9.2"
  },
  "orig_nbformat": 4,
  "vscode": {
   "interpreter": {
    "hash": "916dbcbb3f70747c44a77c7bcd40155683ae19c65e1c03b4aa3499c5328201f1"
   }
  }
 },
 "nbformat": 4,
 "nbformat_minor": 2
}
