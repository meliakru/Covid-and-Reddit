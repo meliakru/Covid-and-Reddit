{
 "cells": [
  {
   "cell_type": "code",
   "execution_count": null,
   "metadata": {
    "pycharm": {
     "is_executing": true
    }
   },
   "outputs": [],
   "source": [
    "import pandas as pd\n",
    "import matplotlib.pyplot as plt\n",
    "# importing the csv into pandas dataframe\n",
    "\n",
    "df = pd.read_csv('/home/amisharma/webminning/Scrapper/Anxietyreddit_data.csv')\n",
    "\n",
    "# using matplotlib to create a graph with the number of posts per month\n",
    "df['date'] = pd.to_datetime(df['date'])\n",
    "df['month'] = df['date'].dt.month\n",
    "ax = df.groupby('month').count()['date'].plot(kind='bar', figsize=(10, 5), title=\"Number of posts per month\")\n",
    "\n",
    "plt.show()\n"
   ]
  },
  {
   "cell_type": "code",
   "execution_count": 5,
   "metadata": {},
   "outputs": [
    {
     "data": {
      "text/plain": [
       "8     38\n",
       "9     35\n",
       "11    34\n",
       "7     31\n",
       "6     31\n",
       "12    29\n",
       "10    27\n",
       "3     26\n",
       "5     26\n",
       "4     22\n",
       "1     19\n",
       "2     19\n",
       "Name: date, dtype: int64"
      ]
     },
     "execution_count": 5,
     "metadata": {},
     "output_type": "execute_result"
    }
   ],
   "source": [
    "df['date'].dt.month.value_counts()"
   ]
  },
  {
   "cell_type": "code",
   "execution_count": 6,
   "metadata": {},
   "outputs": [
    {
     "data": {
      "text/plain": [
       "August       38\n",
       "September    35\n",
       "November     34\n",
       "July         31\n",
       "June         31\n",
       "December     29\n",
       "October      27\n",
       "March        26\n",
       "May          26\n",
       "April        22\n",
       "January      19\n",
       "February     19\n",
       "Name: date, dtype: int64"
      ]
     },
     "execution_count": 6,
     "metadata": {},
     "output_type": "execute_result"
    }
   ],
   "source": [
    "df['date'].dt.month_name().value_counts()"
   ]
  },
  {
   "cell_type": "code",
   "execution_count": 7,
   "metadata": {},
   "outputs": [
    {
     "data": {
      "text/html": [
       "<div>\n",
       "<style scoped>\n",
       "    .dataframe tbody tr th:only-of-type {\n",
       "        vertical-align: middle;\n",
       "    }\n",
       "\n",
       "    .dataframe tbody tr th {\n",
       "        vertical-align: top;\n",
       "    }\n",
       "\n",
       "    .dataframe thead th {\n",
       "        text-align: right;\n",
       "    }\n",
       "</style>\n",
       "<table border=\"1\" class=\"dataframe\">\n",
       "  <thead>\n",
       "    <tr style=\"text-align: right;\">\n",
       "      <th></th>\n",
       "      <th>subReddit</th>\n",
       "      <th>Title</th>\n",
       "      <th>Content</th>\n",
       "      <th>Top Comment</th>\n",
       "      <th>upvotes</th>\n",
       "      <th>Number of comments</th>\n",
       "      <th>date</th>\n",
       "      <th>uniquePostID</th>\n",
       "      <th>month</th>\n",
       "    </tr>\n",
       "  </thead>\n",
       "  <tbody>\n",
       "    <tr>\n",
       "      <th>0</th>\n",
       "      <td>Anxiety</td>\n",
       "      <td>How to order from subway?</td>\n",
       "      <td>I've been pretty much suffering from social an...</td>\n",
       "      <td>[deleted]</td>\n",
       "      <td>4710</td>\n",
       "      <td>31</td>\n",
       "      <td>2020-03-11 03:45:06</td>\n",
       "      <td>fgqyxb</td>\n",
       "      <td>3</td>\n",
       "    </tr>\n",
       "    <tr>\n",
       "      <th>1</th>\n",
       "      <td>Anxiety</td>\n",
       "      <td>I DID IT</td>\n",
       "      <td>I ORDERED A PIZZA. YESSSSSSSSSSSSSSSSSSSSSSSSS...</td>\n",
       "      <td>As someone that would rather starve, CONGRATS!!</td>\n",
       "      <td>4110</td>\n",
       "      <td>134</td>\n",
       "      <td>2020-10-19 18:54:28</td>\n",
       "      <td>je7zks</td>\n",
       "      <td>10</td>\n",
       "    </tr>\n",
       "    <tr>\n",
       "      <th>2</th>\n",
       "      <td>Anxiety</td>\n",
       "      <td>After having really bad anxiety the last coupl...</td>\n",
       "      <td>Ahem.\\n\\n**AAAAAAAAAAAAAAAAAAAAAAAAAAAAAAAAAA ...</td>\n",
       "      <td>What I hate is when you know you're being irra...</td>\n",
       "      <td>3929</td>\n",
       "      <td>140</td>\n",
       "      <td>2020-08-13 23:49:55</td>\n",
       "      <td>i9b6g3</td>\n",
       "      <td>8</td>\n",
       "    </tr>\n",
       "    <tr>\n",
       "      <th>3</th>\n",
       "      <td>Anxiety</td>\n",
       "      <td>Can we just have a round of applause for resta...</td>\n",
       "      <td>It's sooooo much easier going to a restaurant/...</td>\n",
       "      <td>I don't understand how some people live. Like ...</td>\n",
       "      <td>3464</td>\n",
       "      <td>45</td>\n",
       "      <td>2020-11-04 13:06:05</td>\n",
       "      <td>jnwcov</td>\n",
       "      <td>11</td>\n",
       "    </tr>\n",
       "    <tr>\n",
       "      <th>4</th>\n",
       "      <td>Anxiety</td>\n",
       "      <td>At the end of my first ever session my therapi...</td>\n",
       "      <td>EDIT: WOW! Thank you so much guys for your kin...</td>\n",
       "      <td>Thank you so much for sharing, it was nice to ...</td>\n",
       "      <td>3339</td>\n",
       "      <td>68</td>\n",
       "      <td>2020-07-13 19:18:59</td>\n",
       "      <td>hqlsf8</td>\n",
       "      <td>7</td>\n",
       "    </tr>\n",
       "  </tbody>\n",
       "</table>\n",
       "</div>"
      ],
      "text/plain": [
       "  subReddit                                              Title  \\\n",
       "0   Anxiety                          How to order from subway?   \n",
       "1   Anxiety                                           I DID IT   \n",
       "2   Anxiety  After having really bad anxiety the last coupl...   \n",
       "3   Anxiety  Can we just have a round of applause for resta...   \n",
       "4   Anxiety  At the end of my first ever session my therapi...   \n",
       "\n",
       "                                             Content  \\\n",
       "0  I've been pretty much suffering from social an...   \n",
       "1  I ORDERED A PIZZA. YESSSSSSSSSSSSSSSSSSSSSSSSS...   \n",
       "2  Ahem.\\n\\n**AAAAAAAAAAAAAAAAAAAAAAAAAAAAAAAAAA ...   \n",
       "3  It's sooooo much easier going to a restaurant/...   \n",
       "4  EDIT: WOW! Thank you so much guys for your kin...   \n",
       "\n",
       "                                         Top Comment  upvotes  \\\n",
       "0                                          [deleted]     4710   \n",
       "1    As someone that would rather starve, CONGRATS!!     4110   \n",
       "2  What I hate is when you know you're being irra...     3929   \n",
       "3  I don't understand how some people live. Like ...     3464   \n",
       "4  Thank you so much for sharing, it was nice to ...     3339   \n",
       "\n",
       "   Number of comments                date uniquePostID  month  \n",
       "0                  31 2020-03-11 03:45:06       fgqyxb      3  \n",
       "1                 134 2020-10-19 18:54:28       je7zks     10  \n",
       "2                 140 2020-08-13 23:49:55       i9b6g3      8  \n",
       "3                  45 2020-11-04 13:06:05       jnwcov     11  \n",
       "4                  68 2020-07-13 19:18:59       hqlsf8      7  "
      ]
     },
     "execution_count": 7,
     "metadata": {},
     "output_type": "execute_result"
    }
   ],
   "source": [
    "df.head()"
   ]
  },
  {
   "cell_type": "code",
   "execution_count": 8,
   "metadata": {},
   "outputs": [
    {
     "name": "stderr",
     "output_type": "stream",
     "text": [
      "/tmp/ipykernel_13258/1789999931.py:2: FutureWarning: The default value of numeric_only in DataFrameGroupBy.sum is deprecated. In a future version, numeric_only will default to False. Either specify numeric_only or select only columns which should be valid for the function.\n",
      "  ax = df.groupby('month').sum()['Number of comments'].plot(kind='bar', figsize=(10, 5), title=\"Number of comments per month\")\n"
     ]
    },
    {
     "data": {
      "image/png": "[encoded data removed]",
      "text/plain": [
       "<Figure size 1000x500 with 1 Axes>"
      ]
     },
     "metadata": {},
     "output_type": "display_data"
    }
   ],
   "source": [
    "# Number of comments per month\n",
    "ax = df.groupby('month').sum()['Number of comments'].plot(kind='bar', figsize=(10, 5), title=\"Number of comments per month\")\n",
    "plt.show()"
   ]
  },
  {
   "cell_type": "code",
   "execution_count": null,
   "metadata": {},
   "outputs": [],
   "source": []
  },
  {
   "cell_type": "code",
   "execution_count": null,
   "metadata": {},
   "outputs": [],
   "source": []
  }
 ],
 "metadata": {
  "kernelspec": {
   "display_name": "Python 3",
   "language": "python",
   "name": "python3"
  },
  "language_info": {
   "codemirror_mode": {
    "name": "ipython",
    "version": 3
   },
   "file_extension": ".py",
   "mimetype": "text/x-python",
   "name": "python",
   "nbconvert_exporter": "python",
   "pygments_lexer": "ipython3",
   "version": "3.9.2"
  },
  "orig_nbformat": 4,
  "vscode": {
   "interpreter": {
    "hash": "916dbcbb3f70747c44a77c7bcd40155683ae19c65e1c03b4aa3499c5328201f1"
   }
  }
 },
 "nbformat": 4,
 "nbformat_minor": 2
}
