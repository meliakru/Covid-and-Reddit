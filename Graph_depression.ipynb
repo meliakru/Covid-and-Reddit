{
 "cells": [
  {
   "cell_type": "code",
   "execution_count": 32,
   "metadata": {},
   "outputs": [
    {
     "data": {
      "image/png": "[encoded data removed]",
      "text/plain": [
       "<Figure size 1000x500 with 1 Axes>"
      ]
     },
     "metadata": {},
     "output_type": "display_data"
    }
   ],
   "source": [
    "import pandas as pd\n",
    "import matplotlib.pyplot as plt\n",
    "# importing the csv into pandas dataframe\n",
    "\n",
    "df = pd.read_csv('depressionreddit_data.csv')\n",
    "\n",
    "# using matplotlib to create a graph with the number of posts per month\n",
    "df['date'] = pd.to_datetime(df['date'])\n",
    "df['month'] = df['date'].dt.month\n",
    "ax = df.groupby('month').count()['date'].plot(kind='bar', figsize=(10, 5), title=\"Number of posts per month\")\n",
    "\n",
    "plt.show()\n"
   ]
  },
  {
   "cell_type": "code",
   "execution_count": 34,
   "metadata": {},
   "outputs": [
    {
     "data": {
      "text/plain": [
       "8     38\n",
       "6     29\n",
       "5     27\n",
       "11    25\n",
       "10    22\n",
       "12    22\n",
       "4     21\n",
       "9     20\n",
       "1     20\n",
       "7     19\n",
       "3     14\n",
       "2      4\n",
       "Name: date, dtype: int64"
      ]
     },
     "execution_count": 34,
     "metadata": {},
     "output_type": "execute_result"
    }
   ],
   "source": [
    "df['date'].dt.month.value_counts()"
   ]
  },
  {
   "cell_type": "code",
   "execution_count": 37,
   "metadata": {},
   "outputs": [
    {
     "data": {
      "text/plain": [
       "August       38\n",
       "June         29\n",
       "May          27\n",
       "November     25\n",
       "October      22\n",
       "December     22\n",
       "April        21\n",
       "September    20\n",
       "January      20\n",
       "July         19\n",
       "March        14\n",
       "February      4\n",
       "Name: date, dtype: int64"
      ]
     },
     "execution_count": 37,
     "metadata": {},
     "output_type": "execute_result"
    }
   ],
   "source": [
    "df['date'].dt.month_name().value_counts()"
   ]
  },
  {
   "cell_type": "code",
   "execution_count": 44,
   "metadata": {},
   "outputs": [
    {
     "data": {
      "text/html": [
       "<div>\n",
       "<style scoped>\n",
       "    .dataframe tbody tr th:only-of-type {\n",
       "        vertical-align: middle;\n",
       "    }\n",
       "\n",
       "    .dataframe tbody tr th {\n",
       "        vertical-align: top;\n",
       "    }\n",
       "\n",
       "    .dataframe thead th {\n",
       "        text-align: right;\n",
       "    }\n",
       "</style>\n",
       "<table border=\"1\" class=\"dataframe\">\n",
       "  <thead>\n",
       "    <tr style=\"text-align: right;\">\n",
       "      <th></th>\n",
       "      <th>subReddit</th>\n",
       "      <th>Title</th>\n",
       "      <th>Content</th>\n",
       "      <th>Top Comment</th>\n",
       "      <th>upvotes</th>\n",
       "      <th>Number of comments</th>\n",
       "      <th>date</th>\n",
       "      <th>uniquePostID</th>\n",
       "      <th>month</th>\n",
       "    </tr>\n",
       "  </thead>\n",
       "  <tbody>\n",
       "    <tr>\n",
       "      <th>0</th>\n",
       "      <td>depression</td>\n",
       "      <td>Shout out to the particular hell that is funct...</td>\n",
       "      <td>This is me. Don’t get me wrong, it’s better th...</td>\n",
       "      <td>I know how you feel. I feel sad and hopeless m...</td>\n",
       "      <td>6676</td>\n",
       "      <td>197</td>\n",
       "      <td>2019-07-14 07:53:40</td>\n",
       "      <td>cd0hjp</td>\n",
       "      <td>7</td>\n",
       "    </tr>\n",
       "    <tr>\n",
       "      <th>1</th>\n",
       "      <td>depression</td>\n",
       "      <td>If 10 years ago someone told me that in 10 yea...</td>\n",
       "      <td>But here I am, 24 years old man and doing exac...</td>\n",
       "      <td>[deleted]</td>\n",
       "      <td>4420</td>\n",
       "      <td>125</td>\n",
       "      <td>2019-07-12 13:36:38</td>\n",
       "      <td>ccaxvm</td>\n",
       "      <td>7</td>\n",
       "    </tr>\n",
       "    <tr>\n",
       "      <th>2</th>\n",
       "      <td>depression</td>\n",
       "      <td>High-functioning depression: I feel like I'm l...</td>\n",
       "      <td>I read a lot of posts on here of people strugg...</td>\n",
       "      <td>This would be called Persistent Depressive Dis...</td>\n",
       "      <td>4089</td>\n",
       "      <td>200</td>\n",
       "      <td>2019-10-31 09:36:19</td>\n",
       "      <td>dpl4bu</td>\n",
       "      <td>10</td>\n",
       "    </tr>\n",
       "    <tr>\n",
       "      <th>3</th>\n",
       "      <td>depression</td>\n",
       "      <td>I cried in front of my family today. They ende...</td>\n",
       "      <td>Thank you, that really helps. Now I feel ten t...</td>\n",
       "      <td>That honestly sucks! I hate when parents do th...</td>\n",
       "      <td>4022</td>\n",
       "      <td>177</td>\n",
       "      <td>2019-10-07 15:35:16</td>\n",
       "      <td>del3c8</td>\n",
       "      <td>10</td>\n",
       "    </tr>\n",
       "    <tr>\n",
       "      <th>4</th>\n",
       "      <td>depression</td>\n",
       "      <td>Does anyone else stay up super late to avoid t...</td>\n",
       "      <td>I don’t know if that makes sense. What I mean ...</td>\n",
       "      <td>Yes, every day! It's the only thing exciting i...</td>\n",
       "      <td>3923</td>\n",
       "      <td>179</td>\n",
       "      <td>2019-03-26 05:40:19</td>\n",
       "      <td>b5lw5z</td>\n",
       "      <td>3</td>\n",
       "    </tr>\n",
       "  </tbody>\n",
       "</table>\n",
       "</div>"
      ],
      "text/plain": [
       "    subReddit                                              Title  \\\n",
       "0  depression  Shout out to the particular hell that is funct...   \n",
       "1  depression  If 10 years ago someone told me that in 10 yea...   \n",
       "2  depression  High-functioning depression: I feel like I'm l...   \n",
       "3  depression  I cried in front of my family today. They ende...   \n",
       "4  depression  Does anyone else stay up super late to avoid t...   \n",
       "\n",
       "                                             Content  \\\n",
       "0  This is me. Don’t get me wrong, it’s better th...   \n",
       "1  But here I am, 24 years old man and doing exac...   \n",
       "2  I read a lot of posts on here of people strugg...   \n",
       "3  Thank you, that really helps. Now I feel ten t...   \n",
       "4  I don’t know if that makes sense. What I mean ...   \n",
       "\n",
       "                                         Top Comment  upvotes  \\\n",
       "0  I know how you feel. I feel sad and hopeless m...     6676   \n",
       "1                                          [deleted]     4420   \n",
       "2  This would be called Persistent Depressive Dis...     4089   \n",
       "3  That honestly sucks! I hate when parents do th...     4022   \n",
       "4  Yes, every day! It's the only thing exciting i...     3923   \n",
       "\n",
       "   Number of comments                date uniquePostID  month  \n",
       "0                 197 2019-07-14 07:53:40       cd0hjp      7  \n",
       "1                 125 2019-07-12 13:36:38       ccaxvm      7  \n",
       "2                 200 2019-10-31 09:36:19       dpl4bu     10  \n",
       "3                 177 2019-10-07 15:35:16       del3c8     10  \n",
       "4                 179 2019-03-26 05:40:19       b5lw5z      3  "
      ]
     },
     "execution_count": 44,
     "metadata": {},
     "output_type": "execute_result"
    }
   ],
   "source": [
    "df.head()"
   ]
  },
  {
   "cell_type": "code",
   "execution_count": 45,
   "metadata": {},
   "outputs": [
    {
     "name": "stderr",
     "output_type": "stream",
     "text": [
      "/tmp/ipykernel_32979/1789999931.py:2: FutureWarning: The default value of numeric_only in DataFrameGroupBy.sum is deprecated. In a future version, numeric_only will default to False. Either specify numeric_only or select only columns which should be valid for the function.\n",
      "  ax = df.groupby('month').sum()['Number of comments'].plot(kind='bar', figsize=(10, 5), title=\"Number of comments per month\")\n"
     ]
    },
    {
     "data": {
      "image/png": "[encoded data removed]",
      "text/plain": [
       "<Figure size 1000x500 with 1 Axes>"
      ]
     },
     "metadata": {},
     "output_type": "display_data"
    }
   ],
   "source": [
    "# Number of comments per month\n",
    "ax = df.groupby('month').sum()['Number of comments'].plot(kind='bar', figsize=(10, 5), title=\"Number of comments per month\")\n",
    "plt.show()"
   ]
  },
  {
   "cell_type": "code",
   "execution_count": null,
   "metadata": {},
   "outputs": [],
   "source": []
  }
 ],
 "metadata": {
  "kernelspec": {
   "display_name": "Python 3",
   "language": "python",
   "name": "python3"
  },
  "language_info": {
   "codemirror_mode": {
    "name": "ipython",
    "version": 3
   },
   "file_extension": ".py",
   "mimetype": "text/x-python",
   "name": "python",
   "nbconvert_exporter": "python",
   "pygments_lexer": "ipython3",
   "version": "3.9.2"
  },
  "orig_nbformat": 4,
  "vscode": {
   "interpreter": {
    "hash": "916dbcbb3f70747c44a77c7bcd40155683ae19c65e1c03b4aa3499c5328201f1"
   }
  }
 },
 "nbformat": 4,
 "nbformat_minor": 2
}
