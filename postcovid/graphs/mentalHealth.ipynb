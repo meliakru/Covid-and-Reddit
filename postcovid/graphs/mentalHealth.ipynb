{
 "cells": [
  {
   "cell_type": "code",
   "execution_count": 7,
   "metadata": {},
   "outputs": [
    {
     "data": {
      "image/png": "[encoded data removed]",
      "text/plain": [
       "<Figure size 1000x500 with 1 Axes>"
      ]
     },
     "metadata": {},
     "output_type": "display_data"
    }
   ],
   "source": [
    "import pandas as pd\n",
    "import matplotlib.pyplot as plt\n",
    "# importing the csv into pandas dataframe\n",
    "\n",
    "df = pd.read_csv('/home/amisharma/webminning/Scrapper/mentalhealthreddit_data.csv')\n",
    "\n",
    "# using matplotlib to create a graph with the number of posts per month\n",
    "df['date'] = pd.to_datetime(df['date'])\n",
    "df['month'] = df['date'].dt.month\n",
    "ax = df.groupby('month').count()['date'].plot(kind='bar', figsize=(10, 5), title=\"Number of posts per month\")\n",
    "\n",
    "plt.show()\n"
   ]
  },
  {
   "cell_type": "code",
   "execution_count": 8,
   "metadata": {},
   "outputs": [
    {
     "data": {
      "text/plain": [
       "1     38\n",
       "3     32\n",
       "4     32\n",
       "2     29\n",
       "5     29\n",
       "12    19\n",
       "6     19\n",
       "7     19\n",
       "11    14\n",
       "10    12\n",
       "8      9\n",
       "9      7\n",
       "Name: date, dtype: int64"
      ]
     },
     "execution_count": 8,
     "metadata": {},
     "output_type": "execute_result"
    }
   ],
   "source": [
    "df['date'].dt.month.value_counts()"
   ]
  },
  {
   "cell_type": "code",
   "execution_count": 9,
   "metadata": {},
   "outputs": [
    {
     "data": {
      "text/plain": [
       "January      38\n",
       "March        32\n",
       "April        32\n",
       "February     29\n",
       "May          29\n",
       "December     19\n",
       "June         19\n",
       "July         19\n",
       "November     14\n",
       "October      12\n",
       "August        9\n",
       "September     7\n",
       "Name: date, dtype: int64"
      ]
     },
     "execution_count": 9,
     "metadata": {},
     "output_type": "execute_result"
    }
   ],
   "source": [
    "df['date'].dt.month_name().value_counts()"
   ]
  },
  {
   "cell_type": "code",
   "execution_count": 10,
   "metadata": {},
   "outputs": [
    {
     "data": {
      "text/html": [
       "<div>\n",
       "<style scoped>\n",
       "    .dataframe tbody tr th:only-of-type {\n",
       "        vertical-align: middle;\n",
       "    }\n",
       "\n",
       "    .dataframe tbody tr th {\n",
       "        vertical-align: top;\n",
       "    }\n",
       "\n",
       "    .dataframe thead th {\n",
       "        text-align: right;\n",
       "    }\n",
       "</style>\n",
       "<table border=\"1\" class=\"dataframe\">\n",
       "  <thead>\n",
       "    <tr style=\"text-align: right;\">\n",
       "      <th></th>\n",
       "      <th>subReddit</th>\n",
       "      <th>Title</th>\n",
       "      <th>Content</th>\n",
       "      <th>Top Comment</th>\n",
       "      <th>upvotes</th>\n",
       "      <th>Number of comments</th>\n",
       "      <th>date</th>\n",
       "      <th>uniquePostID</th>\n",
       "      <th>month</th>\n",
       "    </tr>\n",
       "  </thead>\n",
       "  <tbody>\n",
       "    <tr>\n",
       "      <th>0</th>\n",
       "      <td>mentalhealth</td>\n",
       "      <td>Thank you to the woman who rang me out at Targ...</td>\n",
       "      <td>I went to target and picked out birthday cards...</td>\n",
       "      <td>Forgive me if I’m stating the obvious or sound...</td>\n",
       "      <td>2715</td>\n",
       "      <td>53</td>\n",
       "      <td>2021-11-13 03:49:11</td>\n",
       "      <td>qssml4</td>\n",
       "      <td>11</td>\n",
       "    </tr>\n",
       "    <tr>\n",
       "      <th>1</th>\n",
       "      <td>mentalhealth</td>\n",
       "      <td>Anyone else procrastinate going to sleep becau...</td>\n",
       "      <td>This is always a struggle for me. I just want ...</td>\n",
       "      <td>Happening as we speak</td>\n",
       "      <td>1756</td>\n",
       "      <td>89</td>\n",
       "      <td>2021-03-10 04:19:21</td>\n",
       "      <td>m1p609</td>\n",
       "      <td>3</td>\n",
       "    </tr>\n",
       "    <tr>\n",
       "      <th>2</th>\n",
       "      <td>mentalhealth</td>\n",
       "      <td>My doctor asked “Do you even want to get bette...</td>\n",
       "      <td>I’m fuming. She told me I need to tighten my b...</td>\n",
       "      <td>Our culture as a whole has \\*zero\\* appreciati...</td>\n",
       "      <td>1302</td>\n",
       "      <td>92</td>\n",
       "      <td>2021-01-13 15:40:23</td>\n",
       "      <td>kwiwdx</td>\n",
       "      <td>1</td>\n",
       "    </tr>\n",
       "    <tr>\n",
       "      <th>3</th>\n",
       "      <td>mentalhealth</td>\n",
       "      <td>My wife has passed suddenly</td>\n",
       "      <td>I'm 24 and have two children with my wife we w...</td>\n",
       "      <td>What a horrible tragedy and so close to a day ...</td>\n",
       "      <td>1290</td>\n",
       "      <td>65</td>\n",
       "      <td>2021-02-15 13:04:11</td>\n",
       "      <td>lkd9pd</td>\n",
       "      <td>2</td>\n",
       "    </tr>\n",
       "    <tr>\n",
       "      <th>4</th>\n",
       "      <td>mentalhealth</td>\n",
       "      <td>I survived a school shooting, but now I can’t ...</td>\n",
       "      <td>I’m sure you’ve seen it on the news, Oxford Hi...</td>\n",
       "      <td>I'm an afghanistan vet. I tell you this becaus...</td>\n",
       "      <td>1286</td>\n",
       "      <td>63</td>\n",
       "      <td>2021-12-03 17:33:18</td>\n",
       "      <td>r84f46</td>\n",
       "      <td>12</td>\n",
       "    </tr>\n",
       "  </tbody>\n",
       "</table>\n",
       "</div>"
      ],
      "text/plain": [
       "      subReddit                                              Title  \\\n",
       "0  mentalhealth  Thank you to the woman who rang me out at Targ...   \n",
       "1  mentalhealth  Anyone else procrastinate going to sleep becau...   \n",
       "2  mentalhealth  My doctor asked “Do you even want to get bette...   \n",
       "3  mentalhealth                        My wife has passed suddenly   \n",
       "4  mentalhealth  I survived a school shooting, but now I can’t ...   \n",
       "\n",
       "                                             Content  \\\n",
       "0  I went to target and picked out birthday cards...   \n",
       "1  This is always a struggle for me. I just want ...   \n",
       "2  I’m fuming. She told me I need to tighten my b...   \n",
       "3  I'm 24 and have two children with my wife we w...   \n",
       "4  I’m sure you’ve seen it on the news, Oxford Hi...   \n",
       "\n",
       "                                         Top Comment  upvotes  \\\n",
       "0  Forgive me if I’m stating the obvious or sound...     2715   \n",
       "1                              Happening as we speak     1756   \n",
       "2  Our culture as a whole has \\*zero\\* appreciati...     1302   \n",
       "3  What a horrible tragedy and so close to a day ...     1290   \n",
       "4  I'm an afghanistan vet. I tell you this becaus...     1286   \n",
       "\n",
       "   Number of comments                date uniquePostID  month  \n",
       "0                  53 2021-11-13 03:49:11       qssml4     11  \n",
       "1                  89 2021-03-10 04:19:21       m1p609      3  \n",
       "2                  92 2021-01-13 15:40:23       kwiwdx      1  \n",
       "3                  65 2021-02-15 13:04:11       lkd9pd      2  \n",
       "4                  63 2021-12-03 17:33:18       r84f46     12  "
      ]
     },
     "execution_count": 10,
     "metadata": {},
     "output_type": "execute_result"
    }
   ],
   "source": [
    "df.head()"
   ]
  },
  {
   "cell_type": "code",
   "execution_count": 11,
   "metadata": {},
   "outputs": [
    {
     "name": "stderr",
     "output_type": "stream",
     "text": [
      "/tmp/ipykernel_62900/1789999931.py:2: FutureWarning: The default value of numeric_only in DataFrameGroupBy.sum is deprecated. In a future version, numeric_only will default to False. Either specify numeric_only or select only columns which should be valid for the function.\n",
      "  ax = df.groupby('month').sum()['Number of comments'].plot(kind='bar', figsize=(10, 5), title=\"Number of comments per month\")\n"
     ]
    },
    {
     "data": {
      "image/png": "[encoded data removed]",
      "text/plain": [
       "<Figure size 1000x500 with 1 Axes>"
      ]
     },
     "metadata": {},
     "output_type": "display_data"
    }
   ],
   "source": [
    "# Number of comments per month\n",
    "ax = df.groupby('month').sum()['Number of comments'].plot(kind='bar', figsize=(10, 5), title=\"Number of comments per month\")\n",
    "plt.show()"
   ]
  },
  {
   "cell_type": "code",
   "execution_count": null,
   "metadata": {},
   "outputs": [],
   "source": []
  }
 ],
 "metadata": {
  "kernelspec": {
   "display_name": "Python 3",
   "language": "python",
   "name": "python3"
  },
  "language_info": {
   "codemirror_mode": {
    "name": "ipython",
    "version": 3
   },
   "file_extension": ".py",
   "mimetype": "text/x-python",
   "name": "python",
   "nbconvert_exporter": "python",
   "pygments_lexer": "ipython3",
   "version": "3.9.2"
  },
  "orig_nbformat": 4,
  "vscode": {
   "interpreter": {
    "hash": "916dbcbb3f70747c44a77c7bcd40155683ae19c65e1c03b4aa3499c5328201f1"
   }
  }
 },
 "nbformat": 4,
 "nbformat_minor": 2
}
