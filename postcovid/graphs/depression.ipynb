{
 "cells": [
  {
   "cell_type": "code",
   "execution_count": 3,
   "metadata": {},
   "outputs": [
    {
     "data": {
      "image/png": "[encoded data removed]",
      "text/plain": [
       "<Figure size 1000x500 with 1 Axes>"
      ]
     },
     "metadata": {},
     "output_type": "display_data"
    }
   ],
   "source": [
    "import pandas as pd\n",
    "import matplotlib.pyplot as plt\n",
    "# importing the csv into pandas dataframe\n",
    "\n",
    "df = pd.read_csv('/home/amisharma/webminning/Scrapper/depressionreddit_data.csv')\n",
    "# using matplotlib to create a graph with the number of posts per month\n",
    "df['date'] = pd.to_datetime(df['date'])\n",
    "df['month'] = df['date'].dt.month\n",
    "ax = df.groupby('month').count()['date'].plot(kind='bar', figsize=(10, 5), title=\"Number of posts per month\")\n",
    "\n",
    "plt.show()\n"
   ]
  },
  {
   "cell_type": "code",
   "execution_count": 4,
   "metadata": {},
   "outputs": [
    {
     "data": {
      "text/plain": [
       "1     29\n",
       "4     27\n",
       "2     23\n",
       "3     21\n",
       "5     19\n",
       "6     17\n",
       "7     12\n",
       "9     12\n",
       "8     10\n",
       "10    10\n",
       "11     6\n",
       "12     5\n",
       "Name: date, dtype: int64"
      ]
     },
     "execution_count": 4,
     "metadata": {},
     "output_type": "execute_result"
    }
   ],
   "source": [
    "df['date'].dt.month.value_counts()"
   ]
  },
  {
   "cell_type": "code",
   "execution_count": 5,
   "metadata": {},
   "outputs": [
    {
     "data": {
      "text/plain": [
       "January      29\n",
       "April        27\n",
       "February     23\n",
       "March        21\n",
       "May          19\n",
       "June         17\n",
       "July         12\n",
       "September    12\n",
       "August       10\n",
       "October      10\n",
       "November      6\n",
       "December      5\n",
       "Name: date, dtype: int64"
      ]
     },
     "execution_count": 5,
     "metadata": {},
     "output_type": "execute_result"
    }
   ],
   "source": [
    "df['date'].dt.month_name().value_counts()"
   ]
  },
  {
   "cell_type": "code",
   "execution_count": 6,
   "metadata": {},
   "outputs": [
    {
     "data": {
      "text/html": [
       "<div>\n",
       "<style scoped>\n",
       "    .dataframe tbody tr th:only-of-type {\n",
       "        vertical-align: middle;\n",
       "    }\n",
       "\n",
       "    .dataframe tbody tr th {\n",
       "        vertical-align: top;\n",
       "    }\n",
       "\n",
       "    .dataframe thead th {\n",
       "        text-align: right;\n",
       "    }\n",
       "</style>\n",
       "<table border=\"1\" class=\"dataframe\">\n",
       "  <thead>\n",
       "    <tr style=\"text-align: right;\">\n",
       "      <th></th>\n",
       "      <th>subReddit</th>\n",
       "      <th>Title</th>\n",
       "      <th>Content</th>\n",
       "      <th>Top Comment</th>\n",
       "      <th>upvotes</th>\n",
       "      <th>Number of comments</th>\n",
       "      <th>date</th>\n",
       "      <th>uniquePostID</th>\n",
       "      <th>month</th>\n",
       "    </tr>\n",
       "  </thead>\n",
       "  <tbody>\n",
       "    <tr>\n",
       "      <th>0</th>\n",
       "      <td>depression</td>\n",
       "      <td>It sucks when you wake up and the only thing y...</td>\n",
       "      <td>The first 6 words of the title is accurate too.</td>\n",
       "      <td>This is me the past few years.</td>\n",
       "      <td>3807</td>\n",
       "      <td>103</td>\n",
       "      <td>2021-05-10 14:07:07</td>\n",
       "      <td>n959fs</td>\n",
       "      <td>5</td>\n",
       "    </tr>\n",
       "    <tr>\n",
       "      <th>1</th>\n",
       "      <td>depression</td>\n",
       "      <td>How do you tell someone... I'm not ignoring yo...</td>\n",
       "      <td>NaN</td>\n",
       "      <td>For me personally receiving that text would be...</td>\n",
       "      <td>3445</td>\n",
       "      <td>101</td>\n",
       "      <td>2021-01-14 15:16:17</td>\n",
       "      <td>kx7k2a</td>\n",
       "      <td>1</td>\n",
       "    </tr>\n",
       "    <tr>\n",
       "      <th>2</th>\n",
       "      <td>depression</td>\n",
       "      <td>Isn't it amazing that everyone who's never had...</td>\n",
       "      <td>It's always some great 1 off line that they th...</td>\n",
       "      <td>That's because people who have never been depr...</td>\n",
       "      <td>3430</td>\n",
       "      <td>127</td>\n",
       "      <td>2021-03-16 03:27:37</td>\n",
       "      <td>m5zy12</td>\n",
       "      <td>3</td>\n",
       "    </tr>\n",
       "    <tr>\n",
       "      <th>3</th>\n",
       "      <td>depression</td>\n",
       "      <td>I hate 'foggy brain syndrome'</td>\n",
       "      <td>Does anyone else feel like their mind isn't as...</td>\n",
       "      <td>you’re describing exactly what i’m going through</td>\n",
       "      <td>3416</td>\n",
       "      <td>198</td>\n",
       "      <td>2021-02-09 21:16:43</td>\n",
       "      <td>lgdpee</td>\n",
       "      <td>2</td>\n",
       "    </tr>\n",
       "    <tr>\n",
       "      <th>4</th>\n",
       "      <td>depression</td>\n",
       "      <td>I think that the worst part of depression is t...</td>\n",
       "      <td>The point I realised that I think I collapsed ...</td>\n",
       "      <td>I feel that way while at work, I just want the...</td>\n",
       "      <td>3056</td>\n",
       "      <td>60</td>\n",
       "      <td>2021-02-18 17:15:50</td>\n",
       "      <td>lmrsbh</td>\n",
       "      <td>2</td>\n",
       "    </tr>\n",
       "  </tbody>\n",
       "</table>\n",
       "</div>"
      ],
      "text/plain": [
       "    subReddit                                              Title  \\\n",
       "0  depression  It sucks when you wake up and the only thing y...   \n",
       "1  depression  How do you tell someone... I'm not ignoring yo...   \n",
       "2  depression  Isn't it amazing that everyone who's never had...   \n",
       "3  depression                      I hate 'foggy brain syndrome'   \n",
       "4  depression  I think that the worst part of depression is t...   \n",
       "\n",
       "                                             Content  \\\n",
       "0    The first 6 words of the title is accurate too.   \n",
       "1                                                NaN   \n",
       "2  It's always some great 1 off line that they th...   \n",
       "3  Does anyone else feel like their mind isn't as...   \n",
       "4  The point I realised that I think I collapsed ...   \n",
       "\n",
       "                                         Top Comment  upvotes  \\\n",
       "0                     This is me the past few years.     3807   \n",
       "1  For me personally receiving that text would be...     3445   \n",
       "2  That's because people who have never been depr...     3430   \n",
       "3   you’re describing exactly what i’m going through     3416   \n",
       "4  I feel that way while at work, I just want the...     3056   \n",
       "\n",
       "   Number of comments                date uniquePostID  month  \n",
       "0                 103 2021-05-10 14:07:07       n959fs      5  \n",
       "1                 101 2021-01-14 15:16:17       kx7k2a      1  \n",
       "2                 127 2021-03-16 03:27:37       m5zy12      3  \n",
       "3                 198 2021-02-09 21:16:43       lgdpee      2  \n",
       "4                  60 2021-02-18 17:15:50       lmrsbh      2  "
      ]
     },
     "execution_count": 6,
     "metadata": {},
     "output_type": "execute_result"
    }
   ],
   "source": [
    "df.head()"
   ]
  },
  {
   "cell_type": "code",
   "execution_count": 7,
   "metadata": {},
   "outputs": [
    {
     "name": "stderr",
     "output_type": "stream",
     "text": [
      "/tmp/ipykernel_70013/1789999931.py:2: FutureWarning: The default value of numeric_only in DataFrameGroupBy.sum is deprecated. In a future version, numeric_only will default to False. Either specify numeric_only or select only columns which should be valid for the function.\n",
      "  ax = df.groupby('month').sum()['Number of comments'].plot(kind='bar', figsize=(10, 5), title=\"Number of comments per month\")\n"
     ]
    },
    {
     "data": {
      "image/png": "[encoded data removed]",
      "text/plain": [
       "<Figure size 1000x500 with 1 Axes>"
      ]
     },
     "metadata": {},
     "output_type": "display_data"
    }
   ],
   "source": [
    "# Number of comments per month\n",
    "ax = df.groupby('month').sum()['Number of comments'].plot(kind='bar', figsize=(10, 5), title=\"Number of comments per month\")\n",
    "plt.show()"
   ]
  },
  {
   "cell_type": "code",
   "execution_count": null,
   "metadata": {},
   "outputs": [],
   "source": []
  }
 ],
 "metadata": {
  "kernelspec": {
   "display_name": "Python 3",
   "language": "python",
   "name": "python3"
  },
  "language_info": {
   "codemirror_mode": {
    "name": "ipython",
    "version": 3
   },
   "file_extension": ".py",
   "mimetype": "text/x-python",
   "name": "python",
   "nbconvert_exporter": "python",
   "pygments_lexer": "ipython3",
   "version": "3.9.2"
  },
  "orig_nbformat": 4,
  "vscode": {
   "interpreter": {
    "hash": "916dbcbb3f70747c44a77c7bcd40155683ae19c65e1c03b4aa3499c5328201f1"
   }
  }
 },
 "nbformat": 4,
 "nbformat_minor": 2
}
