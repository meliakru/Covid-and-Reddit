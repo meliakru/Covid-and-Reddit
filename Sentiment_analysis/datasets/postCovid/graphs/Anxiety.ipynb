{
 "cells": [
  {
   "cell_type": "code",
   "execution_count": 11,
   "metadata": {},
   "outputs": [
    {
     "data": {
      "image/png": "[encoded data removed]",
      "text/plain": [
       "<Figure size 1000x500 with 1 Axes>"
      ]
     },
     "metadata": {},
     "output_type": "display_data"
    }
   ],
   "source": [
    "import pandas as pd\n",
    "import matplotlib.pyplot as plt\n",
    "# importing the csv into pandas dataframe\n",
    "\n",
    "df = pd.read_csv('/home/amisharma/webminning/Scrapper/Anxietyreddit_data.csv')\n",
    "\n",
    "# using matplotlib to create a graph with the number of posts per month\n",
    "df['date'] = pd.to_datetime(df['date'])\n",
    "df['month'] = df['date'].dt.month\n",
    "ax = df.groupby('month').count()['date'].plot(kind='bar', figsize=(10, 5), title=\"Number of posts per month\")\n",
    "\n",
    "plt.show()\n"
   ]
  },
  {
   "cell_type": "code",
   "execution_count": 12,
   "metadata": {},
   "outputs": [
    {
     "data": {
      "text/plain": [
       "1     32\n",
       "4     29\n",
       "2     26\n",
       "3     21\n",
       "5     19\n",
       "6     18\n",
       "7     17\n",
       "10    15\n",
       "8     14\n",
       "11     8\n",
       "12     6\n",
       "9      4\n",
       "Name: date, dtype: int64"
      ]
     },
     "execution_count": 12,
     "metadata": {},
     "output_type": "execute_result"
    }
   ],
   "source": [
    "df['date'].dt.month.value_counts()"
   ]
  },
  {
   "cell_type": "code",
   "execution_count": 13,
   "metadata": {},
   "outputs": [
    {
     "data": {
      "text/plain": [
       "January      32\n",
       "April        29\n",
       "February     26\n",
       "March        21\n",
       "May          19\n",
       "June         18\n",
       "July         17\n",
       "October      15\n",
       "August       14\n",
       "November      8\n",
       "December      6\n",
       "September     4\n",
       "Name: date, dtype: int64"
      ]
     },
     "execution_count": 13,
     "metadata": {},
     "output_type": "execute_result"
    }
   ],
   "source": [
    "df['date'].dt.month_name().value_counts()"
   ]
  },
  {
   "cell_type": "code",
   "execution_count": 14,
   "metadata": {},
   "outputs": [
    {
     "data": {
      "text/html": [
       "<div>\n",
       "<style scoped>\n",
       "    .dataframe tbody tr th:only-of-type {\n",
       "        vertical-align: middle;\n",
       "    }\n",
       "\n",
       "    .dataframe tbody tr th {\n",
       "        vertical-align: top;\n",
       "    }\n",
       "\n",
       "    .dataframe thead th {\n",
       "        text-align: right;\n",
       "    }\n",
       "</style>\n",
       "<table border=\"1\" class=\"dataframe\">\n",
       "  <thead>\n",
       "    <tr style=\"text-align: right;\">\n",
       "      <th></th>\n",
       "      <th>subReddit</th>\n",
       "      <th>Title</th>\n",
       "      <th>Content</th>\n",
       "      <th>Top Comment</th>\n",
       "      <th>upvotes</th>\n",
       "      <th>Number of comments</th>\n",
       "      <th>date</th>\n",
       "      <th>uniquePostID</th>\n",
       "      <th>month</th>\n",
       "    </tr>\n",
       "  </thead>\n",
       "  <tbody>\n",
       "    <tr>\n",
       "      <th>0</th>\n",
       "      <td>Anxiety</td>\n",
       "      <td>My Uber driver had a panic attack mid-ride. He...</td>\n",
       "      <td>It was early afternoon and I had summoned an U...</td>\n",
       "      <td>The way you responded to that situation was ab...</td>\n",
       "      <td>4927</td>\n",
       "      <td>119</td>\n",
       "      <td>2021-04-29 06:00:00</td>\n",
       "      <td>n0y195</td>\n",
       "      <td>4</td>\n",
       "    </tr>\n",
       "    <tr>\n",
       "      <th>1</th>\n",
       "      <td>Anxiety</td>\n",
       "      <td>Do you ever stay up late cause it’s your time ...</td>\n",
       "      <td>If I go to sleep then the next day is gonna co...</td>\n",
       "      <td>“Revenge bedtime procrastination.” A new name ...</td>\n",
       "      <td>4178</td>\n",
       "      <td>167</td>\n",
       "      <td>2021-11-30 03:44:38</td>\n",
       "      <td>r5dver</td>\n",
       "      <td>11</td>\n",
       "    </tr>\n",
       "    <tr>\n",
       "      <th>2</th>\n",
       "      <td>Anxiety</td>\n",
       "      <td>It's so frustrating when society wants to be a...</td>\n",
       "      <td>The company that I worked for: \"Hey it's menta...</td>\n",
       "      <td>I think a lot of people just don't understand ...</td>\n",
       "      <td>2912</td>\n",
       "      <td>67</td>\n",
       "      <td>2021-05-07 14:10:26</td>\n",
       "      <td>n6ze4c</td>\n",
       "      <td>5</td>\n",
       "    </tr>\n",
       "    <tr>\n",
       "      <th>3</th>\n",
       "      <td>Anxiety</td>\n",
       "      <td>You have survived 100% of the panic attacks yo...</td>\n",
       "      <td>NaN</td>\n",
       "      <td>Thank you. I get them all the time, still tryi...</td>\n",
       "      <td>2649</td>\n",
       "      <td>56</td>\n",
       "      <td>2021-10-25 15:14:15</td>\n",
       "      <td>qfixb8</td>\n",
       "      <td>10</td>\n",
       "    </tr>\n",
       "    <tr>\n",
       "      <th>4</th>\n",
       "      <td>Anxiety</td>\n",
       "      <td>I took a blanket and a hot water bottle out to...</td>\n",
       "      <td>It's about 2 degrees Celsius at night where I ...</td>\n",
       "      <td>Proud of you</td>\n",
       "      <td>2328</td>\n",
       "      <td>92</td>\n",
       "      <td>2021-07-15 14:20:29</td>\n",
       "      <td>okttam</td>\n",
       "      <td>7</td>\n",
       "    </tr>\n",
       "  </tbody>\n",
       "</table>\n",
       "</div>"
      ],
      "text/plain": [
       "  subReddit                                              Title  \\\n",
       "0   Anxiety  My Uber driver had a panic attack mid-ride. He...   \n",
       "1   Anxiety  Do you ever stay up late cause it’s your time ...   \n",
       "2   Anxiety  It's so frustrating when society wants to be a...   \n",
       "3   Anxiety  You have survived 100% of the panic attacks yo...   \n",
       "4   Anxiety  I took a blanket and a hot water bottle out to...   \n",
       "\n",
       "                                             Content  \\\n",
       "0  It was early afternoon and I had summoned an U...   \n",
       "1  If I go to sleep then the next day is gonna co...   \n",
       "2  The company that I worked for: \"Hey it's menta...   \n",
       "3                                                NaN   \n",
       "4  It's about 2 degrees Celsius at night where I ...   \n",
       "\n",
       "                                         Top Comment  upvotes  \\\n",
       "0  The way you responded to that situation was ab...     4927   \n",
       "1  “Revenge bedtime procrastination.” A new name ...     4178   \n",
       "2  I think a lot of people just don't understand ...     2912   \n",
       "3  Thank you. I get them all the time, still tryi...     2649   \n",
       "4                                       Proud of you     2328   \n",
       "\n",
       "   Number of comments                date uniquePostID  month  \n",
       "0                 119 2021-04-29 06:00:00       n0y195      4  \n",
       "1                 167 2021-11-30 03:44:38       r5dver     11  \n",
       "2                  67 2021-05-07 14:10:26       n6ze4c      5  \n",
       "3                  56 2021-10-25 15:14:15       qfixb8     10  \n",
       "4                  92 2021-07-15 14:20:29       okttam      7  "
      ]
     },
     "execution_count": 14,
     "metadata": {},
     "output_type": "execute_result"
    }
   ],
   "source": [
    "df.head()"
   ]
  },
  {
   "cell_type": "code",
   "execution_count": 15,
   "metadata": {},
   "outputs": [
    {
     "name": "stderr",
     "output_type": "stream",
     "text": [
      "/tmp/ipykernel_13258/1789999931.py:2: FutureWarning: The default value of numeric_only in DataFrameGroupBy.sum is deprecated. In a future version, numeric_only will default to False. Either specify numeric_only or select only columns which should be valid for the function.\n",
      "  ax = df.groupby('month').sum()['Number of comments'].plot(kind='bar', figsize=(10, 5), title=\"Number of comments per month\")\n"
     ]
    },
    {
     "data": {
      "image/png": "[encoded data removed]",
      "text/plain": [
       "<Figure size 1000x500 with 1 Axes>"
      ]
     },
     "metadata": {},
     "output_type": "display_data"
    }
   ],
   "source": [
    "# Number of comments per month\n",
    "ax = df.groupby('month').sum()['Number of comments'].plot(kind='bar', figsize=(10, 5), title=\"Number of comments per month\")\n",
    "plt.show()"
   ]
  },
  {
   "cell_type": "code",
   "execution_count": null,
   "metadata": {},
   "outputs": [],
   "source": []
  }
 ],
 "metadata": {
  "kernelspec": {
   "display_name": "Python 3",
   "language": "python",
   "name": "python3"
  },
  "language_info": {
   "codemirror_mode": {
    "name": "ipython",
    "version": 3
   },
   "file_extension": ".py",
   "mimetype": "text/x-python",
   "name": "python",
   "nbconvert_exporter": "python",
   "pygments_lexer": "ipython3",
   "version": "3.9.2"
  },
  "orig_nbformat": 4,
  "vscode": {
   "interpreter": {
    "hash": "916dbcbb3f70747c44a77c7bcd40155683ae19c65e1c03b4aa3499c5328201f1"
   }
  }
 },
 "nbformat": 4,
 "nbformat_minor": 2
}
