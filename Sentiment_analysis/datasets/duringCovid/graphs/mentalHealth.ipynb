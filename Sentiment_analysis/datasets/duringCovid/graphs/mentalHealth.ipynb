{
 "cells": [
  {
   "cell_type": "code",
   "execution_count": 1,
   "metadata": {},
   "outputs": [
    {
     "data": {
      "image/png": "[encoded data removed]",
      "text/plain": [
       "<Figure size 1000x500 with 1 Axes>"
      ]
     },
     "metadata": {},
     "output_type": "display_data"
    }
   ],
   "source": [
    "import pandas as pd\n",
    "import matplotlib.pyplot as plt\n",
    "# importing the csv into pandas dataframe\n",
    "\n",
    "df = pd.read_csv('/home/amisharma/webminning/Scrapper/mentalhealthreddit_data.csv')\n",
    "\n",
    "# using matplotlib to create a graph with the number of posts per month\n",
    "df['date'] = pd.to_datetime(df['date'])\n",
    "df['month'] = df['date'].dt.month\n",
    "ax = df.groupby('month').count()['date'].plot(kind='bar', figsize=(10, 5), title=\"Number of posts per month\")\n",
    "\n",
    "plt.show()\n"
   ]
  },
  {
   "cell_type": "code",
   "execution_count": 2,
   "metadata": {},
   "outputs": [
    {
     "data": {
      "text/plain": [
       "11    40\n",
       "7     32\n",
       "8     30\n",
       "9     30\n",
       "12    30\n",
       "5     27\n",
       "4     27\n",
       "10    27\n",
       "3     26\n",
       "6     24\n",
       "1     19\n",
       "2     16\n",
       "Name: date, dtype: int64"
      ]
     },
     "execution_count": 2,
     "metadata": {},
     "output_type": "execute_result"
    }
   ],
   "source": [
    "df['date'].dt.month.value_counts()"
   ]
  },
  {
   "cell_type": "code",
   "execution_count": 3,
   "metadata": {},
   "outputs": [
    {
     "data": {
      "text/plain": [
       "November     40\n",
       "July         32\n",
       "August       30\n",
       "September    30\n",
       "December     30\n",
       "May          27\n",
       "April        27\n",
       "October      27\n",
       "March        26\n",
       "June         24\n",
       "January      19\n",
       "February     16\n",
       "Name: date, dtype: int64"
      ]
     },
     "execution_count": 3,
     "metadata": {},
     "output_type": "execute_result"
    }
   ],
   "source": [
    "df['date'].dt.month_name().value_counts()"
   ]
  },
  {
   "cell_type": "code",
   "execution_count": 4,
   "metadata": {},
   "outputs": [
    {
     "data": {
      "text/html": [
       "<div>\n",
       "<style scoped>\n",
       "    .dataframe tbody tr th:only-of-type {\n",
       "        vertical-align: middle;\n",
       "    }\n",
       "\n",
       "    .dataframe tbody tr th {\n",
       "        vertical-align: top;\n",
       "    }\n",
       "\n",
       "    .dataframe thead th {\n",
       "        text-align: right;\n",
       "    }\n",
       "</style>\n",
       "<table border=\"1\" class=\"dataframe\">\n",
       "  <thead>\n",
       "    <tr style=\"text-align: right;\">\n",
       "      <th></th>\n",
       "      <th>subReddit</th>\n",
       "      <th>Title</th>\n",
       "      <th>Content</th>\n",
       "      <th>Top Comment</th>\n",
       "      <th>upvotes</th>\n",
       "      <th>Number of comments</th>\n",
       "      <th>date</th>\n",
       "      <th>uniquePostID</th>\n",
       "      <th>month</th>\n",
       "    </tr>\n",
       "  </thead>\n",
       "  <tbody>\n",
       "    <tr>\n",
       "      <th>0</th>\n",
       "      <td>mentalhealth</td>\n",
       "      <td>To the man who saved my life and never knew</td>\n",
       "      <td>On a rainy March day, 4 years ago, my parents ...</td>\n",
       "      <td>This pulled my heart strings. Im so happy this...</td>\n",
       "      <td>1928</td>\n",
       "      <td>50</td>\n",
       "      <td>2020-05-10 01:22:25</td>\n",
       "      <td>ggs39f</td>\n",
       "      <td>5</td>\n",
       "    </tr>\n",
       "    <tr>\n",
       "      <th>1</th>\n",
       "      <td>mentalhealth</td>\n",
       "      <td>i’m 365 days clean from selfharm baby</td>\n",
       "      <td>it’s a whole fucking year! right now everythin...</td>\n",
       "      <td>Hell yeah you are! Kick ass news, I’m proud of...</td>\n",
       "      <td>1719</td>\n",
       "      <td>60</td>\n",
       "      <td>2020-07-08 11:54:55</td>\n",
       "      <td>hnfpr6</td>\n",
       "      <td>7</td>\n",
       "    </tr>\n",
       "    <tr>\n",
       "      <th>2</th>\n",
       "      <td>mentalhealth</td>\n",
       "      <td>Want an emotional support animal but can't hav...</td>\n",
       "      <td>I'm a 35m, a grown ass man that has been to Ir...</td>\n",
       "      <td>As a fellow adult male w mental health struggl...</td>\n",
       "      <td>1551</td>\n",
       "      <td>88</td>\n",
       "      <td>2020-08-30 16:28:10</td>\n",
       "      <td>ijfhtt</td>\n",
       "      <td>8</td>\n",
       "    </tr>\n",
       "    <tr>\n",
       "      <th>3</th>\n",
       "      <td>mentalhealth</td>\n",
       "      <td>There is an Arabic saying and it goes like this:</td>\n",
       "      <td>“You want to die? Then throw yourself into the...</td>\n",
       "      <td>I know it's besides the point, but I speak Ara...</td>\n",
       "      <td>1486</td>\n",
       "      <td>24</td>\n",
       "      <td>2020-01-13 13:18:17</td>\n",
       "      <td>eo3zu0</td>\n",
       "      <td>1</td>\n",
       "    </tr>\n",
       "    <tr>\n",
       "      <th>4</th>\n",
       "      <td>mentalhealth</td>\n",
       "      <td>Does anyone else have random thoughts pop in y...</td>\n",
       "      <td>Can’t focus, I’m getting hot and cold really f...</td>\n",
       "      <td>I have that all the time. Things will haunt me...</td>\n",
       "      <td>1231</td>\n",
       "      <td>65</td>\n",
       "      <td>2020-11-25 22:42:52</td>\n",
       "      <td>k12sgp</td>\n",
       "      <td>11</td>\n",
       "    </tr>\n",
       "  </tbody>\n",
       "</table>\n",
       "</div>"
      ],
      "text/plain": [
       "      subReddit                                              Title  \\\n",
       "0  mentalhealth        To the man who saved my life and never knew   \n",
       "1  mentalhealth              i’m 365 days clean from selfharm baby   \n",
       "2  mentalhealth  Want an emotional support animal but can't hav...   \n",
       "3  mentalhealth   There is an Arabic saying and it goes like this:   \n",
       "4  mentalhealth  Does anyone else have random thoughts pop in y...   \n",
       "\n",
       "                                             Content  \\\n",
       "0  On a rainy March day, 4 years ago, my parents ...   \n",
       "1  it’s a whole fucking year! right now everythin...   \n",
       "2  I'm a 35m, a grown ass man that has been to Ir...   \n",
       "3  “You want to die? Then throw yourself into the...   \n",
       "4  Can’t focus, I’m getting hot and cold really f...   \n",
       "\n",
       "                                         Top Comment  upvotes  \\\n",
       "0  This pulled my heart strings. Im so happy this...     1928   \n",
       "1  Hell yeah you are! Kick ass news, I’m proud of...     1719   \n",
       "2  As a fellow adult male w mental health struggl...     1551   \n",
       "3  I know it's besides the point, but I speak Ara...     1486   \n",
       "4  I have that all the time. Things will haunt me...     1231   \n",
       "\n",
       "   Number of comments                date uniquePostID  month  \n",
       "0                  50 2020-05-10 01:22:25       ggs39f      5  \n",
       "1                  60 2020-07-08 11:54:55       hnfpr6      7  \n",
       "2                  88 2020-08-30 16:28:10       ijfhtt      8  \n",
       "3                  24 2020-01-13 13:18:17       eo3zu0      1  \n",
       "4                  65 2020-11-25 22:42:52       k12sgp     11  "
      ]
     },
     "execution_count": 4,
     "metadata": {},
     "output_type": "execute_result"
    }
   ],
   "source": [
    "df.head()"
   ]
  },
  {
   "cell_type": "code",
   "execution_count": 5,
   "metadata": {},
   "outputs": [
    {
     "name": "stderr",
     "output_type": "stream",
     "text": [
      "/tmp/ipykernel_62900/1789999931.py:2: FutureWarning: The default value of numeric_only in DataFrameGroupBy.sum is deprecated. In a future version, numeric_only will default to False. Either specify numeric_only or select only columns which should be valid for the function.\n",
      "  ax = df.groupby('month').sum()['Number of comments'].plot(kind='bar', figsize=(10, 5), title=\"Number of comments per month\")\n"
     ]
    },
    {
     "data": {
      "image/png": "[encoded data removed]",
      "text/plain": [
       "<Figure size 1000x500 with 1 Axes>"
      ]
     },
     "metadata": {},
     "output_type": "display_data"
    }
   ],
   "source": [
    "# Number of comments per month\n",
    "ax = df.groupby('month').sum()['Number of comments'].plot(kind='bar', figsize=(10, 5), title=\"Number of comments per month\")\n",
    "plt.show()"
   ]
  },
  {
   "cell_type": "code",
   "execution_count": null,
   "metadata": {},
   "outputs": [],
   "source": []
  },
  {
   "cell_type": "code",
   "execution_count": null,
   "metadata": {},
   "outputs": [],
   "source": []
  }
 ],
 "metadata": {
  "kernelspec": {
   "display_name": "Python 3",
   "language": "python",
   "name": "python3"
  },
  "language_info": {
   "codemirror_mode": {
    "name": "ipython",
    "version": 3
   },
   "file_extension": ".py",
   "mimetype": "text/x-python",
   "name": "python",
   "nbconvert_exporter": "python",
   "pygments_lexer": "ipython3",
   "version": "3.9.2"
  },
  "orig_nbformat": 4,
  "vscode": {
   "interpreter": {
    "hash": "916dbcbb3f70747c44a77c7bcd40155683ae19c65e1c03b4aa3499c5328201f1"
   }
  }
 },
 "nbformat": 4,
 "nbformat_minor": 2
}
