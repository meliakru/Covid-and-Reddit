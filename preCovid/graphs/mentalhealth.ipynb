{
 "cells": [
  {
   "cell_type": "code",
   "execution_count": 21,
   "metadata": {},
   "outputs": [
    {
     "data": {
      "image/png": "[encoded data removed]",
      "text/plain": [
       "<Figure size 1000x500 with 1 Axes>"
      ]
     },
     "metadata": {},
     "output_type": "display_data"
    }
   ],
   "source": [
    "import pandas as pd\n",
    "import matplotlib.pyplot as plt\n",
    "# importing the csv into pandas dataframe\n",
    "\n",
    "df = pd.read_csv('/home/amisharma/webminning/Scrapper/mentalhealthreddit_data.csv')\n",
    "\n",
    "# using matplotlib to create a graph with the number of posts per month\n",
    "df['date'] = pd.to_datetime(df['date'])\n",
    "df['month'] = df['date'].dt.month\n",
    "ax = df.groupby('month').count()['date'].plot(kind='bar', figsize=(10, 5), title=\"Number of posts per month\")\n",
    "\n",
    "plt.show()\n"
   ]
  },
  {
   "cell_type": "code",
   "execution_count": 22,
   "metadata": {},
   "outputs": [
    {
     "data": {
      "text/plain": [
       "11    23\n",
       "3     21\n",
       "4     20\n",
       "12    19\n",
       "10    18\n",
       "9     18\n",
       "8     17\n",
       "2     17\n",
       "6     16\n",
       "5     15\n",
       "7     13\n",
       "1      9\n",
       "Name: date, dtype: int64"
      ]
     },
     "execution_count": 22,
     "metadata": {},
     "output_type": "execute_result"
    }
   ],
   "source": [
    "df['date'].dt.month.value_counts()"
   ]
  },
  {
   "cell_type": "code",
   "execution_count": 23,
   "metadata": {},
   "outputs": [
    {
     "data": {
      "text/plain": [
       "November     23\n",
       "March        21\n",
       "April        20\n",
       "December     19\n",
       "October      18\n",
       "September    18\n",
       "August       17\n",
       "February     17\n",
       "June         16\n",
       "May          15\n",
       "July         13\n",
       "January       9\n",
       "Name: date, dtype: int64"
      ]
     },
     "execution_count": 23,
     "metadata": {},
     "output_type": "execute_result"
    }
   ],
   "source": [
    "df['date'].dt.month_name().value_counts()"
   ]
  },
  {
   "cell_type": "code",
   "execution_count": 24,
   "metadata": {},
   "outputs": [
    {
     "data": {
      "text/html": [
       "<div>\n",
       "<style scoped>\n",
       "    .dataframe tbody tr th:only-of-type {\n",
       "        vertical-align: middle;\n",
       "    }\n",
       "\n",
       "    .dataframe tbody tr th {\n",
       "        vertical-align: top;\n",
       "    }\n",
       "\n",
       "    .dataframe thead th {\n",
       "        text-align: right;\n",
       "    }\n",
       "</style>\n",
       "<table border=\"1\" class=\"dataframe\">\n",
       "  <thead>\n",
       "    <tr style=\"text-align: right;\">\n",
       "      <th></th>\n",
       "      <th>subReddit</th>\n",
       "      <th>Title</th>\n",
       "      <th>Content</th>\n",
       "      <th>Top Comment</th>\n",
       "      <th>upvotes</th>\n",
       "      <th>Number of comments</th>\n",
       "      <th>date</th>\n",
       "      <th>uniquePostID</th>\n",
       "      <th>month</th>\n",
       "    </tr>\n",
       "  </thead>\n",
       "  <tbody>\n",
       "    <tr>\n",
       "      <th>0</th>\n",
       "      <td>mentalhealth</td>\n",
       "      <td>Not to brag, but instead of laying in bed ALL ...</td>\n",
       "      <td>NaN</td>\n",
       "      <td>Honestly, I've found having a shower the most ...</td>\n",
       "      <td>2971</td>\n",
       "      <td>51</td>\n",
       "      <td>2019-04-15 19:13:30</td>\n",
       "      <td>bdk3xt</td>\n",
       "      <td>4</td>\n",
       "    </tr>\n",
       "    <tr>\n",
       "      <th>1</th>\n",
       "      <td>mentalhealth</td>\n",
       "      <td>It’s been 2 months to the day since I last sel...</td>\n",
       "      <td>NaN</td>\n",
       "      <td>That's amazing!! Good job Im so happy for you ...</td>\n",
       "      <td>2020</td>\n",
       "      <td>159</td>\n",
       "      <td>2019-10-20 07:12:42</td>\n",
       "      <td>dkgcw0</td>\n",
       "      <td>10</td>\n",
       "    </tr>\n",
       "    <tr>\n",
       "      <th>2</th>\n",
       "      <td>mentalhealth</td>\n",
       "      <td>I made a suicide scale. Hoping it could help o...</td>\n",
       "      <td>[suicide scale](https://emmengard.com/2019/05/...</td>\n",
       "      <td>Living in states 8-9 for twelve years, I thoug...</td>\n",
       "      <td>1963</td>\n",
       "      <td>128</td>\n",
       "      <td>2019-05-07 22:40:26</td>\n",
       "      <td>blxcj7</td>\n",
       "      <td>5</td>\n",
       "    </tr>\n",
       "    <tr>\n",
       "      <th>3</th>\n",
       "      <td>mentalhealth</td>\n",
       "      <td>To the person who deleted their post few minut...</td>\n",
       "      <td>I don't really know what's going on with you a...</td>\n",
       "      <td>Upvoted this to make sure they see it, perhaps...</td>\n",
       "      <td>1356</td>\n",
       "      <td>11</td>\n",
       "      <td>2019-08-24 18:11:22</td>\n",
       "      <td>cuwwed</td>\n",
       "      <td>8</td>\n",
       "    </tr>\n",
       "    <tr>\n",
       "      <th>4</th>\n",
       "      <td>mentalhealth</td>\n",
       "      <td>People who welcome you back with open arms aft...</td>\n",
       "      <td>Self isolation is horrific and that is all</td>\n",
       "      <td>I have a friend I cancel on a lot, and he stil...</td>\n",
       "      <td>1026</td>\n",
       "      <td>25</td>\n",
       "      <td>2019-10-16 04:01:30</td>\n",
       "      <td>dijt4y</td>\n",
       "      <td>10</td>\n",
       "    </tr>\n",
       "  </tbody>\n",
       "</table>\n",
       "</div>"
      ],
      "text/plain": [
       "      subReddit                                              Title  \\\n",
       "0  mentalhealth  Not to brag, but instead of laying in bed ALL ...   \n",
       "1  mentalhealth  It’s been 2 months to the day since I last sel...   \n",
       "2  mentalhealth  I made a suicide scale. Hoping it could help o...   \n",
       "3  mentalhealth  To the person who deleted their post few minut...   \n",
       "4  mentalhealth  People who welcome you back with open arms aft...   \n",
       "\n",
       "                                             Content  \\\n",
       "0                                                NaN   \n",
       "1                                                NaN   \n",
       "2  [suicide scale](https://emmengard.com/2019/05/...   \n",
       "3  I don't really know what's going on with you a...   \n",
       "4         Self isolation is horrific and that is all   \n",
       "\n",
       "                                         Top Comment  upvotes  \\\n",
       "0  Honestly, I've found having a shower the most ...     2971   \n",
       "1  That's amazing!! Good job Im so happy for you ...     2020   \n",
       "2  Living in states 8-9 for twelve years, I thoug...     1963   \n",
       "3  Upvoted this to make sure they see it, perhaps...     1356   \n",
       "4  I have a friend I cancel on a lot, and he stil...     1026   \n",
       "\n",
       "   Number of comments                date uniquePostID  month  \n",
       "0                  51 2019-04-15 19:13:30       bdk3xt      4  \n",
       "1                 159 2019-10-20 07:12:42       dkgcw0     10  \n",
       "2                 128 2019-05-07 22:40:26       blxcj7      5  \n",
       "3                  11 2019-08-24 18:11:22       cuwwed      8  \n",
       "4                  25 2019-10-16 04:01:30       dijt4y     10  "
      ]
     },
     "execution_count": 24,
     "metadata": {},
     "output_type": "execute_result"
    }
   ],
   "source": [
    "df.head()"
   ]
  },
  {
   "cell_type": "code",
   "execution_count": 25,
   "metadata": {},
   "outputs": [
    {
     "name": "stderr",
     "output_type": "stream",
     "text": [
      "/tmp/ipykernel_139827/1789999931.py:2: FutureWarning: The default value of numeric_only in DataFrameGroupBy.sum is deprecated. In a future version, numeric_only will default to False. Either specify numeric_only or select only columns which should be valid for the function.\n",
      "  ax = df.groupby('month').sum()['Number of comments'].plot(kind='bar', figsize=(10, 5), title=\"Number of comments per month\")\n"
     ]
    },
    {
     "data": {
      "image/png": "[encoded data removed]",
      "text/plain": [
       "<Figure size 1000x500 with 1 Axes>"
      ]
     },
     "metadata": {},
     "output_type": "display_data"
    }
   ],
   "source": [
    "# Number of comments per month\n",
    "ax = df.groupby('month').sum()['Number of comments'].plot(kind='bar', figsize=(10, 5), title=\"Number of comments per month\")\n",
    "plt.show()"
   ]
  },
  {
   "cell_type": "code",
   "execution_count": null,
   "metadata": {},
   "outputs": [],
   "source": []
  }
 ],
 "metadata": {
  "kernelspec": {
   "display_name": "Python 3",
   "language": "python",
   "name": "python3"
  },
  "language_info": {
   "codemirror_mode": {
    "name": "ipython",
    "version": 3
   },
   "file_extension": ".py",
   "mimetype": "text/x-python",
   "name": "python",
   "nbconvert_exporter": "python",
   "pygments_lexer": "ipython3",
   "version": "3.9.2"
  },
  "orig_nbformat": 4,
  "vscode": {
   "interpreter": {
    "hash": "916dbcbb3f70747c44a77c7bcd40155683ae19c65e1c03b4aa3499c5328201f1"
   }
  }
 },
 "nbformat": 4,
 "nbformat_minor": 2
}
